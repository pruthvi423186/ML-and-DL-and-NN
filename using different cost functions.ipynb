{
 "cells": [
  {
   "cell_type": "markdown",
   "id": "392fd180-67ff-47a2-b424-3e6ddc415c64",
   "metadata": {},
   "source": [
    "# Exercise: Supervised learning by using different cost functions\r\n",
    "\r\n",
    "In this exercise, we'll take a deeper look at how cost functions can change:\r\n",
    "\r\n",
    "* How well models appear to have fit data\r\n",
    "* The kinds of relationships a model represents\r\n",
    "\r\n",
    "## Loading the data\r\n",
    "\r\n",
    "Let's start by loading the data. To make this exercise simpler, we'll use only a few datapoints this time."
   ]
  },
  {
   "cell_type": "code",
   "execution_count": 5,
   "id": "726456fc-d744-4716-869e-abc9b427f21d",
   "metadata": {},
   "outputs": [
    {
     "name": "stderr",
     "output_type": "stream",
     "text": [
      "  % Total    % Received % Xferd  Average Speed   Time    Time     Time  Current\n",
      "                                 Dload  Upload   Total   Spent    Left  Speed\n",
      "\n",
      "  0     0    0     0    0     0      0      0 --:--:-- --:--:-- --:--:--     0\n",
      "100  2167  100  2167    0     0  41009      0 --:--:-- --:--:-- --:--:-- 42490\n",
      "  % Total    % Received % Xferd  Average Speed   Time    Time     Time  Current\n",
      "                                 Dload  Upload   Total   Spent    Left  Speed\n",
      "\n",
      "  0     0    0     0    0     0      0      0 --:--:-- --:--:-- --:--:--     0\n",
      "100  744k  100  744k    0     0  10.1M      0 --:--:-- --:--:-- --:--:-- 10.3M\n"
     ]
    },
    {
     "data": {
      "text/html": [
       "<div>\n",
       "<style scoped>\n",
       "    .dataframe tbody tr th:only-of-type {\n",
       "        vertical-align: middle;\n",
       "    }\n",
       "\n",
       "    .dataframe tbody tr th {\n",
       "        vertical-align: top;\n",
       "    }\n",
       "\n",
       "    .dataframe thead th {\n",
       "        text-align: right;\n",
       "    }\n",
       "</style>\n",
       "<table border=\"1\" class=\"dataframe\">\n",
       "  <thead>\n",
       "    <tr style=\"text-align: right;\">\n",
       "      <th></th>\n",
       "      <th>date</th>\n",
       "      <th>amount_of_precipitation</th>\n",
       "      <th>max_temperature</th>\n",
       "      <th>min_temperature</th>\n",
       "      <th>rain</th>\n",
       "      <th>year</th>\n",
       "    </tr>\n",
       "  </thead>\n",
       "  <tbody>\n",
       "    <tr>\n",
       "      <th>762</th>\n",
       "      <td>1950-02-01</td>\n",
       "      <td>0.00</td>\n",
       "      <td>27</td>\n",
       "      <td>1</td>\n",
       "      <td>False</td>\n",
       "      <td>1950.087611</td>\n",
       "    </tr>\n",
       "    <tr>\n",
       "      <th>4414</th>\n",
       "      <td>1960-02-01</td>\n",
       "      <td>0.15</td>\n",
       "      <td>52</td>\n",
       "      <td>44</td>\n",
       "      <td>True</td>\n",
       "      <td>1960.087611</td>\n",
       "    </tr>\n",
       "    <tr>\n",
       "      <th>8067</th>\n",
       "      <td>1970-02-01</td>\n",
       "      <td>0.00</td>\n",
       "      <td>50</td>\n",
       "      <td>42</td>\n",
       "      <td>False</td>\n",
       "      <td>1970.087611</td>\n",
       "    </tr>\n",
       "    <tr>\n",
       "      <th>11719</th>\n",
       "      <td>1980-02-01</td>\n",
       "      <td>0.37</td>\n",
       "      <td>54</td>\n",
       "      <td>36</td>\n",
       "      <td>True</td>\n",
       "      <td>1980.087611</td>\n",
       "    </tr>\n",
       "    <tr>\n",
       "      <th>15372</th>\n",
       "      <td>1990-02-01</td>\n",
       "      <td>0.08</td>\n",
       "      <td>45</td>\n",
       "      <td>37</td>\n",
       "      <td>True</td>\n",
       "      <td>1990.087611</td>\n",
       "    </tr>\n",
       "    <tr>\n",
       "      <th>19024</th>\n",
       "      <td>2000-02-01</td>\n",
       "      <td>1.34</td>\n",
       "      <td>49</td>\n",
       "      <td>41</td>\n",
       "      <td>True</td>\n",
       "      <td>2000.087611</td>\n",
       "    </tr>\n",
       "    <tr>\n",
       "      <th>22677</th>\n",
       "      <td>2010-02-01</td>\n",
       "      <td>0.08</td>\n",
       "      <td>49</td>\n",
       "      <td>40</td>\n",
       "      <td>True</td>\n",
       "      <td>2010.087611</td>\n",
       "    </tr>\n",
       "    <tr>\n",
       "      <th>25234</th>\n",
       "      <td>2017-02-01</td>\n",
       "      <td>0.00</td>\n",
       "      <td>43</td>\n",
       "      <td>29</td>\n",
       "      <td>False</td>\n",
       "      <td>2017.087611</td>\n",
       "    </tr>\n",
       "  </tbody>\n",
       "</table>\n",
       "</div>"
      ],
      "text/plain": [
       "            date  amount_of_precipitation  max_temperature  min_temperature  \\\n",
       "762   1950-02-01                     0.00               27                1   \n",
       "4414  1960-02-01                     0.15               52               44   \n",
       "8067  1970-02-01                     0.00               50               42   \n",
       "11719 1980-02-01                     0.37               54               36   \n",
       "15372 1990-02-01                     0.08               45               37   \n",
       "19024 2000-02-01                     1.34               49               41   \n",
       "22677 2010-02-01                     0.08               49               40   \n",
       "25234 2017-02-01                     0.00               43               29   \n",
       "\n",
       "        rain         year  \n",
       "762    False  1950.087611  \n",
       "4414    True  1960.087611  \n",
       "8067   False  1970.087611  \n",
       "11719   True  1980.087611  \n",
       "15372   True  1990.087611  \n",
       "19024   True  2000.087611  \n",
       "22677   True  2010.087611  \n",
       "25234  False  2017.087611  "
      ]
     },
     "execution_count": 5,
     "metadata": {},
     "output_type": "execute_result"
    }
   ],
   "source": [
    "import pandas\n",
    "!curl -O https://raw.githubusercontent.com/MicrosoftDocs/mslearn-introduction-to-machine-learning/main/microsoft_custom_linear_regressor.py\n",
    "!curl -O https://raw.githubusercontent.com/MicrosoftDocs/mslearn-introduction-to-machine-learning/main/Data/seattleWeather_1948-2017.csv\n",
    "from datetime import datetime\n",
    "\n",
    "# Load a file that contains our weather data\n",
    "dataset = pandas.read_csv('seattleWeather_1948-2017.csv', parse_dates=['date'])\n",
    "\n",
    "# Convert the dates into numbers so we can use them in our models We make a year column that can contain fractions. For example, 1948.5 is halfway through the year 1948\n",
    "dataset[\"year\"] = [(d.year + d.timetuple().tm_yday / 365.25) for d in dataset.date]\n",
    "\n",
    "\n",
    "# For the sake of this exercise, let's look at February 1 for the following years:\n",
    "desired_dates = [\n",
    "    datetime(1950,2,1),\n",
    "    datetime(1960,2,1),\n",
    "    datetime(1970,2,1),\n",
    "    datetime(1980,2,1),\n",
    "    datetime(1990,2,1),\n",
    "    datetime(2000,2,1),\n",
    "    datetime(2010,2,1),\n",
    "    datetime(2017,2,1),\n",
    "]\n",
    "\n",
    "dataset = dataset[dataset.date.isin(desired_dates)].copy()\n",
    "\n",
    "# Print the dataset\n",
    "dataset\n"
   ]
  },
  {
   "cell_type": "markdown",
   "id": "7ce457cc-6b9d-4f05-a517-412fb8056623",
   "metadata": {},
   "source": [
    "## Comparing two cost functions\n",
    "\n",
    "Let's compare two common cost functions: the _sum of squared differences_ (SSD) and the _sum of absolute differences_ (SAD). They both calculate the difference between each predicted value and the expected value. The distinction is simply: \n",
    "\n",
    "* SSD squares that difference and sums the result.\n",
    "* SAD converts differences into absolute differences and then sums them.\n",
    "\n",
    "To see these cost functions in action, we need to first implement them:"
   ]
  },
  {
   "cell_type": "code",
   "execution_count": 8,
   "id": "a9b11002-f5c3-47f9-a677-4fb670ca3c8c",
   "metadata": {},
   "outputs": [],
   "source": [
    "import numpy\n",
    "\n",
    "def sum_of_square_differences(estimate, actual):\n",
    "    # Note that with NumPy, to square each value we use **\n",
    "    return numpy.sum((estimate - actual)**2)\n",
    "\n",
    "def sum_of_absolute_differences(estimate, actual):\n",
    "    return numpy.sum(numpy.abs(estimate - actual))"
   ]
  },
  {
   "cell_type": "markdown",
   "id": "10c4d8e2-b827-47ec-8cf4-f46dd7593f81",
   "metadata": {},
   "source": [
    "They're very similar. How do they behave? Let's test with some fake model estimates.\r\n",
    "\r\n",
    "Let's say that the correct answers are 1 and 3, but the model estimates 2 and 2:"
   ]
  },
  {
   "cell_type": "code",
   "execution_count": 11,
   "id": "45d910e4-d702-45e8-960c-addfa908c115",
   "metadata": {},
   "outputs": [
    {
     "name": "stdout",
     "output_type": "stream",
     "text": [
      "SSD: 2\n",
      "SAD: 2\n"
     ]
    }
   ],
   "source": [
    "actual_label = numpy.array([1, 3])\n",
    "model_estimate = numpy.array([2, 2])\n",
    "\n",
    "print(\"SSD:\", sum_of_square_differences(model_estimate, actual_label))\n",
    "print(\"SAD:\", sum_of_absolute_differences(model_estimate, actual_label))"
   ]
  },
  {
   "cell_type": "markdown",
   "id": "1f8a8387-2e33-4ba3-8e38-bb87db7cf9d5",
   "metadata": {},
   "source": [
    "    We have an error of `1` for each estimate, and both methods have returned the same error. \n",
    "\n",
    "What happens if we distribute these errors differently? Let's pretend that we estimated the first value perfectly, but were off by `2` for the second value: "
   ]
  },
  {
   "cell_type": "code",
   "execution_count": 14,
   "id": "c9c4a993-9d41-4878-b692-47d8c890fcaa",
   "metadata": {},
   "outputs": [
    {
     "name": "stdout",
     "output_type": "stream",
     "text": [
      "SSD: 4\n",
      "SAD: 2\n"
     ]
    }
   ],
   "source": [
    "actual_label = numpy.array([1, 3])\n",
    "model_estimate = numpy.array([1, 1])\n",
    "\n",
    "print(\"SSD:\", sum_of_square_differences(model_estimate, actual_label))\n",
    "print(\"SAD:\", sum_of_absolute_differences(model_estimate, actual_label))"
   ]
  },
  {
   "cell_type": "markdown",
   "id": "85a06d4d-b4db-4992-a4c3-52f1db4b3031",
   "metadata": {},
   "source": [
    "SAD has calculated the same cost as before, because the average error is still the same (`1 + 1 = 0 + 2`). According to SAD, the first and second set of estimates were equally good. \n",
    "\n",
    "By contrast, SSD has given a higher (worse) cost for the second set of estimates ( $1^2 + 1^2 < 0^2 + 2^2 $ ). When we use SSD, we encourage models to be both accurate and consistent in their accuracy.\n",
    "\n",
    "\n",
    "## Differences in action\n",
    "\n",
    "Let's compare how our two cost functions affect model fitting.\n",
    "\n",
    "First, fit a model by using the SSD cost function:"
   ]
  },
  {
   "cell_type": "code",
   "execution_count": 19,
   "id": "45fc855c-ce0f-4a35-a4d6-25bd963a6847",
   "metadata": {},
   "outputs": [
    {
     "data": {
      "text/plain": [
       "<matplotlib.legend.Legend at 0x2222b7eb2d0>"
      ]
     },
     "execution_count": 19,
     "metadata": {},
     "output_type": "execute_result"
    },
    {
     "data": {
      "image/png": "[encoded data removed]",
      "text/plain": [
       "<Figure size 640x480 with 1 Axes>"
      ]
     },
     "metadata": {},
     "output_type": "display_data"
    }
   ],
   "source": [
    "from microsoft_custom_linear_regressor import MicrosoftCustomLinearRegressor\n",
    "import matplotlib.pyplot as plt\n",
    "\n",
    "# Create and fit the model\n",
    "# by using a provided cost function\n",
    "\n",
    "# Fit a model by using sum of square differences\n",
    "model = MicrosoftCustomLinearRegressor().fit(X = dataset.year, \n",
    "                                             y = dataset.min_temperature, \n",
    "                                             cost_function = sum_of_square_differences)\n",
    "\n",
    "# Graph the model\n",
    "plt.scatter(dataset[\"year\"], dataset[\"min_temperature\"])\n",
    "plt.plot(dataset[\"year\"], model.predict(dataset[\"year\"]), 'r', label='Fitted line')\n",
    "\n",
    "                                                 \n",
    "# add labels and legend\n",
    "plt.xlabel(\"year\")\n",
    "plt.ylabel(\"min_temperature\")\n",
    "plt.legend()"
   ]
  },
  {
   "cell_type": "markdown",
   "id": "9877819e-2fa0-4a65-9c1d-97c39941e403",
   "metadata": {},
   "source": [
    "Our SSD method normally does well, but here it did a poor job. The line is a far distance from the values for many years. Why? Notice that the datapoint at the lower left doesn't seem to follow the trend of the other datapoints. 1950 was a very cold winter in Seattle, and this datapoint is strongly influencing our final model (the red line). What happens if we change the cost function?\n",
    "\n",
    "### Sum of absolute differences\n",
    "\n",
    "Let's repeat what we've just done, but using SAD."
   ]
  },
  {
   "cell_type": "code",
   "execution_count": 22,
   "id": "782954af-7df5-4ee8-95b0-fc5df563a4cf",
   "metadata": {},
   "outputs": [
    {
     "data": {
      "text/plain": [
       "<matplotlib.legend.Legend at 0x2222b8332d0>"
      ]
     },
     "execution_count": 22,
     "metadata": {},
     "output_type": "execute_result"
    },
    {
     "data": {
      "image/png": "[encoded data removed]",
      "text/plain": [
       "<Figure size 640x480 with 1 Axes>"
      ]
     },
     "metadata": {},
     "output_type": "display_data"
    }
   ],
   "source": [
    "# Fit a model with SAD\n",
    "# Fit a model by using sum of absolute differences\n",
    "model = MicrosoftCustomLinearRegressor().fit(X = dataset.year, \n",
    "                                             y = dataset.min_temperature, \n",
    "                                             cost_function = sum_of_absolute_differences)\n",
    "\n",
    "# Graph the model\n",
    "plt.scatter(dataset[\"year\"], dataset[\"min_temperature\"])\n",
    "plt.plot(dataset[\"year\"], model.predict(dataset[\"year\"]), 'r', label='Fitted line')\n",
    "\n",
    "                                                 \n",
    "# add labels and legend\n",
    "plt.xlabel(\"year\")\n",
    "plt.ylabel(\"min_temperature\")\n",
    "plt.legend()\n"
   ]
  },
  {
   "cell_type": "code",
   "execution_count": null,
   "id": "b6fe7361-4f7b-4f81-9572-f0e6b511edeb",
   "metadata": {},
   "outputs": [],
   "source": []
  }
 ],
 "metadata": {
  "kernelspec": {
   "display_name": "Python 3 (ipykernel)",
   "language": "python",
   "name": "python3"
  },
  "language_info": {
   "codemirror_mode": {
    "name": "ipython",
    "version": 3
   },
   "file_extension": ".py",
   "mimetype": "text/x-python",
   "name": "python",
   "nbconvert_exporter": "python",
   "pygments_lexer": "ipython3",
   "version": "3.11.7"
  }
 },
 "nbformat": 4,
 "nbformat_minor": 5
}
